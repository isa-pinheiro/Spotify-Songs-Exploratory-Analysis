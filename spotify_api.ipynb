{
 "cells": [
  {
   "cell_type": "code",
   "execution_count": 8,
   "metadata": {},
   "outputs": [],
   "source": [
    "import os\n",
    "import json\n",
    "import base64\n",
    "from requests import post\n",
    "from dotenv import load_dotenv\n"
   ]
  },
  {
   "cell_type": "code",
   "execution_count": 4,
   "metadata": {},
   "outputs": [],
   "source": [
    "load_dotenv()\n",
    "\n",
    "client_id = os.getenv('CLIENT_ID')\n",
    "client_secret = os.getenv('CLIENT_SECRET')"
   ]
  },
  {
   "cell_type": "code",
   "execution_count": 6,
   "metadata": {},
   "outputs": [],
   "source": [
    "def get_token():\n",
    "    auth_string = client_id + ':' + client_secret\n",
    "    auth_bytes = auth_string.encode('utf-8')\n",
    "    auth_base64 = str(base64.b64encode(auth_bytes), 'utf-8')\n",
    "\n",
    "    url = 'https://accounts.spotify.com/api/token'\n",
    "    headers= {\n",
    "        'Authorization': 'Basic ' + auth_base64,\n",
    "        'Content-Type': 'application/x-www-form-urlencoded'\n",
    "    }\n",
    "    data = {'grant_type': 'client_credentials'}\n",
    "\n",
    "    result = post(url, headers=headers, data=data)\n",
    "\n",
    "    json_result = json.loads(result.content)\n",
    "    token = json_result['access_token']\n",
    "    return token\n"
   ]
  },
  {
   "cell_type": "code",
   "execution_count": 9,
   "metadata": {},
   "outputs": [
    {
     "data": {
      "text/plain": [
       "'BQA2YNlxGB8h9USAGatC1K72qd-PElGS_JFbq1aCrg3xDjdoutXze_ZQWcqF6dhLtxDd9vOXDITVLa_w6TOJnoHwIxry6Ntlzw1PyWWF4U3sFdd70uo'"
      ]
     },
     "execution_count": 9,
     "metadata": {},
     "output_type": "execute_result"
    }
   ],
   "source": [
    "get_token()"
   ]
  }
 ],
 "metadata": {
  "kernelspec": {
   "display_name": "Python 3",
   "language": "python",
   "name": "python3"
  },
  "language_info": {
   "codemirror_mode": {
    "name": "ipython",
    "version": 3
   },
   "file_extension": ".py",
   "mimetype": "text/x-python",
   "name": "python",
   "nbconvert_exporter": "python",
   "pygments_lexer": "ipython3",
   "version": "3.12.5"
  }
 },
 "nbformat": 4,
 "nbformat_minor": 2
}
