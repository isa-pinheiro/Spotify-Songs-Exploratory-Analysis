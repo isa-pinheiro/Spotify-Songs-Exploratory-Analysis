{
 "cells": [
  {
   "cell_type": "code",
   "execution_count": null,
   "metadata": {},
   "outputs": [],
   "source": [
    "import os\n",
    "import json\n",
    "import base64\n",
    "import pandas as pd\n",
    "from users import get_user_id\n",
    "from requests import post, get\n",
    "from dotenv import load_dotenv\n",
    "from utils import ms_to_min_sec\n",
    "from time import sleep\n",
    "from validate import get_token, get_auth_header"
   ]
  },
  {
   "cell_type": "code",
   "execution_count": null,
   "metadata": {},
   "outputs": [],
   "source": [
    "pd.set_option('display.max_rows', None)\n",
    "pd.set_option('display.max_columns', None)"
   ]
  },
  {
   "cell_type": "code",
   "execution_count": null,
   "metadata": {},
   "outputs": [],
   "source": [
    "token = get_token()"
   ]
  },
  {
   "cell_type": "code",
   "execution_count": null,
   "metadata": {},
   "outputs": [],
   "source": [
    "def search_for_artist(token, artist_name):\n",
    "    url = 'https://api.spotify.com/v1/search'\n",
    "    headers = get_auth_header(token)\n",
    "    query = f'q={artist_name}&type=artist&limit=1'\n",
    "    query_url = url + '?' + query\n",
    "\n",
    "    result = get(query_url, headers=headers)\n",
    "    json_result = json.loads(result.content)[ 'artists']['items']\n",
    "    return json_result\n"
   ]
  },
  {
   "cell_type": "code",
   "execution_count": null,
   "metadata": {},
   "outputs": [],
   "source": [
    "def search_playlist_items(token,  playlist_id, total_songs):\n",
    "    headers = get_auth_header(token)\n",
    "\n",
    "    offset=0\n",
    "    song_amnt = total_songs\n",
    "    tracks = []\n",
    "    while song_amnt > 0:\n",
    "        url = f'https://api.spotify.com/v1/playlists/{playlist_id}/tracks?limit=100&offset={offset}'\n",
    "        result = get(url, headers=headers)\n",
    "        json_result = json.loads(result.content)['items']\n",
    "\n",
    "        for item in json_result:\n",
    "            track = {}\n",
    "            track['name'] = item[\"track\"][\"name\"]\n",
    "            track['artist'] = item[\"track\"][\"artists\"][0][\"name\"]\n",
    "            track['album'] = item[\"track\"][\"album\"][\"name\"]\n",
    "            track['release_date'] = item[\"track\"][\"album\"][\"release_date\"]\n",
    "            track['duration_ms'] = item[\"track\"][\"duration_ms\"]\n",
    "            track['duration'] = ms_to_min_sec(item[\"track\"][\"duration_ms\"])\n",
    "            track['url'] = item[\"track\"][\"href\"]\n",
    "            track['track_id'] = item['track']['id']\n",
    "            tracks.append(track)\n",
    "\n",
    "        song_amnt -= 100\n",
    "        offset +=100\n",
    "    return pd.DataFrame(tracks)"
   ]
  },
  {
   "cell_type": "code",
   "execution_count": null,
   "metadata": {},
   "outputs": [],
   "source": [
    "def get_general_tracks(tracks_ids):\n",
    "    infos = []\n",
    "    headers = get_auth_header(token)\n",
    "    for track_id in tracks_ids:\n",
    "        url = f'https://api.spotify.com/v1/tracks/{track_id}'\n",
    "        general_result = get(url, headers=headers)\n",
    "        json_result = json.loads(general_result.content)\n",
    "        print(json_result)\n",
    "        info = {}\n",
    "        info['track_name'] = json_result['name']\n",
    "        info['album_name'] = json_result['album']['name']\n",
    "        info['artist_name'] = json_result['artists'][0]['name']\n",
    "        info['image'] = json_result['album']['images'][0]\n",
    "        info['release_date'] = json_result['album']['release_date']\n",
    "        info['explicit'] = json_result['explicit']\n",
    "        info['popularity'] = json_result['popularity']\n",
    "        infos.append(info)\n",
    "    return pd.DataFrame(infos)"
   ]
  },
  {
   "cell_type": "code",
   "execution_count": null,
   "metadata": {},
   "outputs": [],
   "source": [
    "def get_feature_tracks(tracks_ids):\n",
    "    infos = []\n",
    "    headers = get_auth_header(token)\n",
    "    for track_id in tracks_ids:\n",
    "        url = f'https://api.spotify.com/v1/audio-features/{track_id}'\n",
    "        general_result = get(url, headers=headers)\n",
    "        json_result = json.loads(general_result.content)\n",
    "        print(json_result)\n",
    "\n",
    "        info = {}\n",
    "        info['danceability'] = json_result['danceability']\n",
    "        info['energy'] = json_result['energy']\n",
    "        info['key'] = json_result['key']\n",
    "        info['loudness'] = json_result['loudness']\n",
    "        info['mode'] = json_result['mode']\n",
    "        info['speechiness'] = json_result['speechiness']\n",
    "        info['acousticness'] = json_result['acousticness']\n",
    "        info['instrumentalness'] = json_result['instrumentalness']\n",
    "        info['liveness'] = json_result['liveness']\n",
    "        info['valence'] = json_result['valence']\n",
    "        info['tempo'] = json_result['tempo']\n",
    "        infos.append(info)\n",
    "    return pd.DataFrame(infos)"
   ]
  },
  {
   "cell_type": "code",
   "execution_count": null,
   "metadata": {},
   "outputs": [],
   "source": [
    "def get_tracks_info(token, tracks_ids):\n",
    "    headers = get_auth_header(token)\n",
    "    \n",
    "    ids = '%2C'.join(tracks_ids.astype(str))\n",
    "\n",
    "    url1 = f'https://api.spotify.com/v1/tracks?ids={ids}'\n",
    "    general_result = get(url1, headers=headers)\n",
    "    json_result_general = json.loads(general_result.content)\n",
    "\n",
    "    url2 = f'https://api.spotify.com/v1/audio-features?ids={ids}'\n",
    "    features_result = get(url2, headers=headers)\n",
    "    json_result_features = json.loads(features_result.content)\n",
    "    print(json_result_general)\n",
    "    print(json_result_features)\n",
    "\n",
    "    json_result_general = json_result_general['tracks']\n",
    "    infos_general = []\n",
    "    for item in json_result_general:\n",
    "        info = {}\n",
    "        info['track_name'] = item['name']\n",
    "        info['album_name'] = item['album']['name']\n",
    "        info['artist_name'] = item['artists'][0]['name']\n",
    "        info['image'] = item['album']['images'][0]\n",
    "        info['release_date'] = item['album']['release_date']\n",
    "        info['explicit'] = item['explicit']\n",
    "        info['popularity'] = item['popularity']\n",
    "        infos_general.append(info)\n",
    "\n",
    "\n",
    "    json_result_features = json_result_features['audio_features']\n",
    "    infos_features = []\n",
    "    for item in json_result_features:\n",
    "        info = {}\n",
    "        info['danceability'] = item['danceability']\n",
    "        info['energy'] = item['energy']\n",
    "        info['key'] = item['key']\n",
    "        info['loudness'] = item['loudness']\n",
    "        info['mode'] = item['mode']\n",
    "        info['speechiness'] = item['speechiness']\n",
    "        info['acousticness'] = item['acousticness']\n",
    "        info['instrumentalness'] = item['instrumentalness']\n",
    "        info['liveness'] = item['liveness']\n",
    "        info['valence'] = item['valence']\n",
    "        info['tempo'] = item['tempo']\n",
    "        infos_features.append(info)\n",
    "\n",
    "    df = pd.concat([pd.DataFrame(infos_general), pd.DataFrame(infos_features)], axis=1)\n",
    "    return df\n"
   ]
  },
  {
   "cell_type": "code",
   "execution_count": null,
   "metadata": {},
   "outputs": [],
   "source": [
    "def get_playlist_names(token, user_id):\n",
    "    url =f'https://api.spotify.com/v1/users/{user_id}/playlists'\n",
    "    headers = get_auth_header(token)\n",
    "\n",
    "    result = get(url, headers=headers)\n",
    "    json_result = json.loads(result.content)['items']\n",
    "\n",
    "    playlists = []\n",
    "    for item in json_result:\n",
    "        playlist = {}\n",
    "        playlist['id'] = item['id']\n",
    "        playlist['playlist_name'] = item['name']\n",
    "        playlist['owner_name'] = item['owner']['display_name']\n",
    "        playlist['url'] = item['tracks']['href']\n",
    "        playlist['total_songs'] = item['tracks']['total']\n",
    "        playlists.append(playlist)\n",
    "    return pd.DataFrame(playlists)\n"
   ]
  },
  {
   "cell_type": "code",
   "execution_count": null,
   "metadata": {},
   "outputs": [],
   "source": [
    "user_playlists = get_playlist_names(token, get_user_id()[1]).reset_index()\n",
    "user_playlists_over_100=user_playlists[user_playlists['total_songs']>=100]\n",
    "user_playlists_under_100=user_playlists[user_playlists['total_songs']<100]"
   ]
  },
  {
   "cell_type": "code",
   "execution_count": null,
   "metadata": {},
   "outputs": [],
   "source": [
    "user_playlists_over_100"
   ]
  },
  {
   "cell_type": "code",
   "execution_count": null,
   "metadata": {},
   "outputs": [],
   "source": [
    "user_playlists_under_100"
   ]
  },
  {
   "cell_type": "code",
   "execution_count": null,
   "metadata": {},
   "outputs": [],
   "source": [
    "dfs = []"
   ]
  },
  {
   "cell_type": "code",
   "execution_count": null,
   "metadata": {},
   "outputs": [],
   "source": [
    "# for id in user_playlists_over_100.index:\n",
    "#     print(id)\n",
    "#     playlist_items = search_playlist_items(token,  playlist_id=user_playlists.id.loc[id], total_songs=user_playlists.total_songs.loc[id])\n",
    "#     df1 = get_general_tracks(playlist_items.track_id)\n",
    "#     df2 = get_feature_tracks(playlist_items.track_id)\n",
    "#     df = pd.concat([df1, df2], axis=1)\n",
    "#     dfs.append(df)\n",
    "#     sleep(3)"
   ]
  },
  {
   "cell_type": "code",
   "execution_count": null,
   "metadata": {},
   "outputs": [],
   "source": [
    "for id in user_playlists_under_100.index:\n",
    "    print(id)\n",
    "    playlist_items = search_playlist_items(token,  playlist_id=user_playlists_under_100.id.loc[id], total_songs=user_playlists.total_songs.loc[id])\n",
    "    df = get_tracks_info(token, playlist_items.track_id)\n",
    "    dfs.append(df)\n",
    "    sleep(3)"
   ]
  },
  {
   "cell_type": "code",
   "execution_count": null,
   "metadata": {},
   "outputs": [],
   "source": [
    "df_final = pd.concat(dfs)"
   ]
  },
  {
   "cell_type": "code",
   "execution_count": null,
   "metadata": {},
   "outputs": [],
   "source": [
    "df_final.shape"
   ]
  },
  {
   "cell_type": "code",
   "execution_count": null,
   "metadata": {},
   "outputs": [],
   "source": [
    "user = get_user_id()[1]"
   ]
  },
  {
   "cell_type": "code",
   "execution_count": null,
   "metadata": {},
   "outputs": [],
   "source": [
    "def get_user_final_whole_playlists(user):\n",
    "    user_playlists = get_playlist_names(token, user).reset_index()\n",
    "    user_playlists_over_100=user_playlists[user_playlists['total_songs']>=100]\n",
    "    user_playlists_under_100=user_playlists[user_playlists['total_songs']<100]\n",
    "\n",
    "    dfs = []\n",
    "\n",
    "    for id in user_playlists_under_100.index:\n",
    "        print(id)\n",
    "        playlist_items = search_playlist_items(token,  playlist_id=user_playlists_under_100.id.loc[id], total_songs=user_playlists.total_songs.loc[id])\n",
    "        df = get_tracks_info(token, playlist_items.track_id)\n",
    "        dfs.append(df)\n",
    "        sleep(3)\n",
    "\n",
    "    for id in user_playlists_over_100.index:\n",
    "        print(id)\n",
    "        playlist_items = search_playlist_items(token,  playlist_id=user_playlists.id.loc[id], total_songs=user_playlists.total_songs.loc[id])\n",
    "        df1 = get_general_tracks(playlist_items.track_id)\n",
    "        df2 = get_feature_tracks(playlist_items.track_id)\n",
    "        df = pd.concat([df1, df2], axis=1)\n",
    "        dfs.append(df)\n",
    "        sleep(3)\n",
    "    \n",
    "    df_final = pd.concat(dfs)\n",
    "\n",
    "    return df_final\n"
   ]
  },
  {
   "cell_type": "code",
   "execution_count": null,
   "metadata": {},
   "outputs": [],
   "source": [
    "get_user_final_whole_playlists(user)"
   ]
  }
 ],
 "metadata": {
  "kernelspec": {
   "display_name": "base",
   "language": "python",
   "name": "python3"
  },
  "language_info": {
   "codemirror_mode": {
    "name": "ipython",
    "version": 3
   },
   "file_extension": ".py",
   "mimetype": "text/x-python",
   "name": "python",
   "nbconvert_exporter": "python",
   "pygments_lexer": "ipython3",
   "version": "3.12.4"
  }
 },
 "nbformat": 4,
 "nbformat_minor": 2
}
